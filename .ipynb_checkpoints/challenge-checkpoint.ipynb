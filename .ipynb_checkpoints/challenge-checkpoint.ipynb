{
 "cells": [
  {
   "cell_type": "markdown",
   "metadata": {},
   "source": [
    "# Challenge\n",
    "\n",
    "Another approach to identifying fraudulent transactions is to look for outliers in the data. Standard deviation or quartiles are often used to detect outliers. Using this starter notebook, code two Python functions:\n",
    "\n",
    "* One that uses standard deviation to identify anomalies for any cardholder.\n",
    "\n",
    "* Another that uses interquartile range to identify anomalies for any cardholder.\n",
    "\n",
    "## Identifying Outliers using Standard Deviation"
   ]
  },
  {
   "cell_type": "code",
   "execution_count": 1,
   "metadata": {},
   "outputs": [],
   "source": [
    "# Initial imports\n",
    "import pandas as pd\n",
    "import numpy as np\n",
    "import random\n",
    "from sqlalchemy import create_engine\n",
    "\n"
   ]
  },
  {
   "cell_type": "code",
   "execution_count": 2,
   "metadata": {},
   "outputs": [],
   "source": [
    "# Create a connection to the database\n",
    "engine = create_engine(\"postgresql://postgres:postgres @localhost:5432/fraud-detection\")\n"
   ]
  },
  {
   "cell_type": "code",
   "execution_count": null,
   "metadata": {},
   "outputs": [],
   "source": []
  },
  {
   "cell_type": "code",
   "execution_count": 3,
   "metadata": {},
   "outputs": [
    {
     "data": {
      "text/plain": [
       "        cardholder_id\n",
       "amount  21                0.21\n",
       "        22                0.29\n",
       "        17                0.38\n",
       "        10                0.45\n",
       "        8                 0.46\n",
       "        14                0.50\n",
       "        5                 0.52\n",
       "        4                 0.61\n",
       "        2                 0.64\n",
       "        15                0.65\n",
       "        23                0.65\n",
       "        20                0.67\n",
       "        11                0.71\n",
       "        13                0.82\n",
       "        19                0.83\n",
       "        3                 3.06\n",
       "        24                4.94\n",
       "        9                 6.60\n",
       "        6                 6.63\n",
       "        7                 8.93\n",
       "        1                 9.95\n",
       "        12               12.92\n",
       "        16               17.54\n",
       "        18               17.74\n",
       "        25               25.75\n",
       "dtype: float64"
      ]
     },
     "execution_count": 3,
     "metadata": {},
     "output_type": "execute_result"
    }
   ],
   "source": [
    "# Write function that locates outliers using standard deviation\n",
    "query = \"\"\"\n",
    "SELECT card_holder.cardholder_id, transaction.date, transaction.amount\n",
    "FROM transaction\n",
    "JOIN credit_card ON transaction.card = credit_card.card \n",
    "JOIN card_holder ON credit_card.cardholder_id = card_holder.cardholder_id\n",
    "ORDER BY card_holder.cardholder_id, transaction.date\n",
    " \n",
    ";\n",
    "        \"\"\"\n",
    "# Create a DataFrame from the query result. HINT: Use pd.read_sql(query, engine)\n",
    "all_cardholders = pd.read_sql(query, engine,)\n",
    "all_cardholders.head()\n",
    "all_cardholders = all_cardholders.pivot(index = 'date', columns = 'cardholder_id')\n",
    "\n",
    "\n",
    "all_cardholders_daily = all_cardholders.pct_change()\n",
    "all_cardholders_daily = all_cardholders_daily.dropna()\n",
    "all_cardholders_daily_std = round(all_cardholders_daily.std().sort_values(),2)\n",
    "all_cardholders_daily_std"
   ]
  },
  {
   "cell_type": "code",
   "execution_count": 8,
   "metadata": {},
   "outputs": [
    {
     "data": {
      "text/plain": [
       "[4.94, 25.75, 6.6]"
      ]
     },
     "execution_count": 8,
     "metadata": {},
     "output_type": "execute_result"
    }
   ],
   "source": [
    "outlier_list = []\n",
    "for x in all_cardholders_daily_std:\n",
    "   if x >= 1:\n",
    "       outlier_list.append(x)\n",
    "\n",
    "outlier_list        \n",
    "random.choices(outlier_list, k = 3)\n",
    "\n"
   ]
  },
  {
   "cell_type": "markdown",
   "metadata": {},
   "source": [
    "## Identifying Outliers Using Interquartile Range"
   ]
  },
  {
   "cell_type": "code",
   "execution_count": 9,
   "metadata": {},
   "outputs": [
    {
     "name": "stdout",
     "output_type": "stream",
     "text": [
      "lower_limit is -8.645\n",
      "upper_limit is 15.794999999999998\n"
     ]
    }
   ],
   "source": [
    "# Write a function that locates outliers using interquartile range\n",
    "import seaborn as sns\n",
    "\n",
    "quarter_1 = np.percentile(all_cardholders_daily_std, 25, interpolation = 'midpoint')\n",
    "quarter_2 = np.percentile(all_cardholders_daily_std, 50, interpolation = 'midpoint')\n",
    "quarter_3 = np.percentile(all_cardholders_daily_std, 75, interpolation = 'midpoint')\n",
    "iqr = quarter_3 - quarter_1\n",
    "lower_limit = quarter_1 - 1.5 * iqr\n",
    "upper_limit = quarter_3 + 1.5 * iqr\n",
    "print(f'lower_limit is {lower_limit}')\n",
    "print(f'upper_limit is {upper_limit}')\n"
   ]
  },
  {
   "cell_type": "code",
   "execution_count": 10,
   "metadata": {},
   "outputs": [
    {
     "name": "stdout",
     "output_type": "stream",
     "text": [
      "[17.54, 17.74, 25.75]\n"
     ]
    }
   ],
   "source": [
    "# Find anomalous transactions for 3 random card holders\n",
    "outlier = []\n",
    "for x in all_cardholders_daily_std:\n",
    "    if ((x> upper_limit) or (x<lower_limit)):\n",
    "        outlier.append(x)\n",
    "print(outlier)\n",
    "    "
   ]
  },
  {
   "cell_type": "code",
   "execution_count": null,
   "metadata": {},
   "outputs": [],
   "source": []
  }
 ],
 "metadata": {
  "file_extension": ".py",
  "kernelspec": {
   "display_name": "Python 3 (ipykernel)",
   "language": "python",
   "name": "python3"
  },
  "language_info": {
   "codemirror_mode": {
    "name": "ipython",
    "version": 3
   },
   "file_extension": ".py",
   "mimetype": "text/x-python",
   "name": "python",
   "nbconvert_exporter": "python",
   "pygments_lexer": "ipython3",
   "version": "3.9.12"
  },
  "mimetype": "text/x-python",
  "name": "python",
  "npconvert_exporter": "python",
  "pygments_lexer": "ipython3",
  "version": 3
 },
 "nbformat": 4,
 "nbformat_minor": 4
}
